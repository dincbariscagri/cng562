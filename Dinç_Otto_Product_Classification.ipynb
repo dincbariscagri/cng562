{
  "nbformat": 4,
  "nbformat_minor": 0,
  "metadata": {
    "colab": {
      "name": "Dinç_Otto_Product_Classification.ipynb",
      "version": "0.3.2",
      "provenance": [],
      "collapsed_sections": [],
      "include_colab_link": true
    },
    "kernelspec": {
      "name": "python3",
      "display_name": "Python 3"
    },
    "accelerator": "GPU"
  },
  "cells": [
    {
      "cell_type": "markdown",
      "metadata": {
        "id": "view-in-github",
        "colab_type": "text"
      },
      "source": [
        "<a href=\"https://colab.research.google.com/github/dincbariscagri/cng562/blob/master/Din%C3%A7_Otto_Product_Classification.ipynb\" target=\"_parent\"><img src=\"https://colab.research.google.com/assets/colab-badge.svg\" alt=\"Open In Colab\"/></a>"
      ]
    },
    {
      "cell_type": "markdown",
      "metadata": {
        "id": "IIf0H6KXOcsF",
        "colab_type": "text"
      },
      "source": [
        "## Data Download From Kaggle"
      ]
    },
    {
      "cell_type": "code",
      "metadata": {
        "id": "jQLq5GTP_8bW",
        "colab_type": "code",
        "colab": {}
      },
      "source": [
        "import numpy as np\n",
        "import matplotlib.pyplot as plt \n",
        "import pandas as pd \n",
        "import os"
      ],
      "execution_count": 0,
      "outputs": []
    },
    {
      "cell_type": "code",
      "metadata": {
        "id": "I_fvI7noASQ6",
        "colab_type": "code",
        "colab": {}
      },
      "source": [
        "!pip install -U -q kaggle\n",
        "!mkdir -p ~/.kaggle "
      ],
      "execution_count": 0,
      "outputs": []
    },
    {
      "cell_type": "code",
      "metadata": {
        "id": "h5ArKyUEOYx3",
        "colab_type": "code",
        "colab": {
          "resources": {
            "http://localhost:8080/nbextensions/google.colab/files.js": {
              "data": "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",
              "ok": true,
              "headers": [
                [
                  "content-type",
                  "application/javascript"
                ]
              ],
              "status": 200,
              "status_text": ""
            }
          },
          "base_uri": "https://localhost:8080/",
          "height": 92
        },
        "outputId": "8c090e1f-78b0-4abe-d280-8a944422a275"
      },
      "source": [
        "from google.colab import files\n",
        "files.upload()"
      ],
      "execution_count": 12,
      "outputs": [
        {
          "output_type": "display_data",
          "data": {
            "text/html": [
              "\n",
              "     <input type=\"file\" id=\"files-8a71f130-adb1-4fc9-89f2-3c501ed15272\" name=\"files[]\" multiple disabled />\n",
              "     <output id=\"result-8a71f130-adb1-4fc9-89f2-3c501ed15272\">\n",
              "      Upload widget is only available when the cell has been executed in the\n",
              "      current browser session. Please rerun this cell to enable.\n",
              "      </output>\n",
              "      <script src=\"/nbextensions/google.colab/files.js\"></script> "
            ],
            "text/plain": [
              "<IPython.core.display.HTML object>"
            ]
          },
          "metadata": {
            "tags": []
          }
        },
        {
          "output_type": "stream",
          "text": [
            "Saving kaggle.json to kaggle (1).json\n"
          ],
          "name": "stdout"
        },
        {
          "output_type": "execute_result",
          "data": {
            "text/plain": [
              "{'kaggle.json': b'{\"username\":\"dincbariscagri\",\"key\":\"4f5bc4e9a909993dbfa5e71d78faa089\"}'}"
            ]
          },
          "metadata": {
            "tags": []
          },
          "execution_count": 12
        }
      ]
    },
    {
      "cell_type": "code",
      "metadata": {
        "id": "lEcshSR7Z8DV",
        "colab_type": "code",
        "colab": {}
      },
      "source": [
        "!cp kaggle.json ~/.kaggle/"
      ],
      "execution_count": 0,
      "outputs": []
    },
    {
      "cell_type": "code",
      "metadata": {
        "id": "IzcNvhR_DGjS",
        "colab_type": "code",
        "outputId": "43e74701-2bb7-44c2-faab-02a8c189233d",
        "colab": {
          "base_uri": "https://localhost:8080/",
          "height": 250
        }
      },
      "source": [
        "!kaggle competitions download -c otto-group-product-classification-challenge\n",
        "!unzip train.csv.zip"
      ],
      "execution_count": 15,
      "outputs": [
        {
          "output_type": "stream",
          "text": [
            "Warning: Your Kaggle API key is readable by other users on this system! To fix this, you can run 'chmod 600 /root/.kaggle/kaggle.json'\n",
            "Downloading sampleSubmission.csv to /content\n",
            "\r  0% 0.00/3.34M [00:00<?, ?B/s]\n",
            "100% 3.34M/3.34M [00:00<00:00, 110MB/s]\n",
            "Downloading train.csv.zip to /content\n",
            "  0% 0.00/1.59M [00:00<?, ?B/s]\n",
            "100% 1.59M/1.59M [00:00<00:00, 107MB/s]\n",
            "Downloading test.csv.zip to /content\n",
            "  0% 0.00/3.79M [00:00<?, ?B/s]\n",
            "100% 3.79M/3.79M [00:00<00:00, 126MB/s]\n",
            "Archive:  train.csv.zip\n",
            "  inflating: train.csv               \n"
          ],
          "name": "stdout"
        }
      ]
    },
    {
      "cell_type": "code",
      "metadata": {
        "id": "nJ-E5e6bDPl6",
        "colab_type": "code",
        "colab": {}
      },
      "source": [
        "dataset = pd.read_csv(\"train.csv\")\n",
        "dataset = dataset.drop('id',axis=1)\n",
        "\n",
        "X= pd.get_dummies(dataset.drop('target',axis=1),drop_first=True).iloc[:,:].values\n",
        "Y= dataset.iloc[:,93].values"
      ],
      "execution_count": 0,
      "outputs": []
    },
    {
      "cell_type": "code",
      "metadata": {
        "id": "P6xiEPIIAUEx",
        "colab_type": "code",
        "colab": {}
      },
      "source": [
        "from sklearn.preprocessing import LabelEncoder\n",
        "labelEncoder_Y = LabelEncoder()\n",
        "Y = labelEncoder_Y.fit_transform(Y)"
      ],
      "execution_count": 0,
      "outputs": []
    },
    {
      "cell_type": "code",
      "metadata": {
        "id": "yeuq66_IAWub",
        "colab_type": "code",
        "colab": {}
      },
      "source": [
        "from keras.utils import np_utils\n",
        "dummy_y = np_utils.to_categorical(Y)"
      ],
      "execution_count": 0,
      "outputs": []
    },
    {
      "cell_type": "code",
      "metadata": {
        "id": "0dM-zE0-AYI5",
        "colab_type": "code",
        "colab": {}
      },
      "source": [
        "from sklearn.model_selection import train_test_split\n",
        "X_train, X_test, y_train, y_test = train_test_split(X,dummy_y,test_size=0.20)"
      ],
      "execution_count": 0,
      "outputs": []
    },
    {
      "cell_type": "code",
      "metadata": {
        "id": "QRRMwZY5AZ3i",
        "colab_type": "code",
        "colab": {}
      },
      "source": [
        "from sklearn.preprocessing import StandardScaler\n",
        "sc = StandardScaler()\n",
        "X_train = sc.fit_transform(X_train)\n",
        "X_test = sc.transform(X_test)"
      ],
      "execution_count": 0,
      "outputs": []
    },
    {
      "cell_type": "markdown",
      "metadata": {
        "id": "-tI6rfkcP5vv",
        "colab_type": "text"
      },
      "source": [
        "## Model Train"
      ]
    },
    {
      "cell_type": "code",
      "metadata": {
        "id": "-c3mtLJbAbQS",
        "colab_type": "code",
        "outputId": "1b45ada2-2cb0-47e7-830f-4e91a242013d",
        "colab": {
          "base_uri": "https://localhost:8080/",
          "height": 3709
        }
      },
      "source": [
        "#Artificial Neural Networks\n",
        "import keras\n",
        "from keras.models import Sequential\n",
        "from keras.layers import Dense,Dropout\n",
        "\n",
        "def keras_model():\n",
        "    classifier = Sequential()\n",
        "    classifier.add(Dense(51,kernel_initializer='uniform', activation='relu', input_dim=93))\n",
        "    classifier.add(Dense(9,kernel_initializer='uniform', activation='softmax'))\n",
        "    classifier.compile(loss='categorical_crossentropy', optimizer='adam', metrics=['accuracy'])\n",
        "    return classifier\n",
        "\n",
        "classifier = keras_model()\n",
        "print(classifier.summary())\n",
        "\n",
        "history = classifier.fit(X_train, y_train, epochs=100, batch_size=150,validation_split=0.2)\n",
        "y_pred= classifier.predict(X_test)"
      ],
      "execution_count": 21,
      "outputs": [
        {
          "output_type": "stream",
          "text": [
            "_________________________________________________________________\n",
            "Layer (type)                 Output Shape              Param #   \n",
            "=================================================================\n",
            "dense_3 (Dense)              (None, 51)                4794      \n",
            "_________________________________________________________________\n",
            "dense_4 (Dense)              (None, 9)                 468       \n",
            "=================================================================\n",
            "Total params: 5,262\n",
            "Trainable params: 5,262\n",
            "Non-trainable params: 0\n",
            "_________________________________________________________________\n",
            "None\n",
            "WARNING:tensorflow:From /usr/local/lib/python3.6/dist-packages/tensorflow/python/ops/math_ops.py:3066: to_int32 (from tensorflow.python.ops.math_ops) is deprecated and will be removed in a future version.\n",
            "Instructions for updating:\n",
            "Use tf.cast instead.\n",
            "Train on 39601 samples, validate on 9901 samples\n",
            "Epoch 1/100\n",
            "39601/39601 [==============================] - 4s 88us/step - loss: 1.0695 - acc: 0.6723 - val_loss: 0.7288 - val_acc: 0.7329\n",
            "Epoch 2/100\n",
            "39601/39601 [==============================] - 1s 20us/step - loss: 0.6636 - acc: 0.7510 - val_loss: 0.6556 - val_acc: 0.7514\n",
            "Epoch 3/100\n",
            "39601/39601 [==============================] - 1s 21us/step - loss: 0.6138 - acc: 0.7652 - val_loss: 0.6272 - val_acc: 0.7639\n",
            "Epoch 4/100\n",
            "39601/39601 [==============================] - 1s 21us/step - loss: 0.5905 - acc: 0.7712 - val_loss: 0.6124 - val_acc: 0.7644\n",
            "Epoch 5/100\n",
            "39601/39601 [==============================] - 1s 21us/step - loss: 0.5741 - acc: 0.7762 - val_loss: 0.6037 - val_acc: 0.7671\n",
            "Epoch 6/100\n",
            "39601/39601 [==============================] - 1s 20us/step - loss: 0.5619 - acc: 0.7794 - val_loss: 0.5966 - val_acc: 0.7699\n",
            "Epoch 7/100\n",
            "39601/39601 [==============================] - 1s 20us/step - loss: 0.5558 - acc: 0.7828 - val_loss: 0.5902 - val_acc: 0.7736\n",
            "Epoch 8/100\n",
            "39601/39601 [==============================] - 1s 21us/step - loss: 0.5468 - acc: 0.7865 - val_loss: 0.5849 - val_acc: 0.7757\n",
            "Epoch 9/100\n",
            "39601/39601 [==============================] - 1s 22us/step - loss: 0.5375 - acc: 0.7891 - val_loss: 0.5799 - val_acc: 0.7750\n",
            "Epoch 10/100\n",
            "39601/39601 [==============================] - 1s 23us/step - loss: 0.5320 - acc: 0.7916 - val_loss: 0.5773 - val_acc: 0.7758\n",
            "Epoch 11/100\n",
            "39601/39601 [==============================] - 1s 23us/step - loss: 0.5285 - acc: 0.7925 - val_loss: 0.5816 - val_acc: 0.7762\n",
            "Epoch 12/100\n",
            "39601/39601 [==============================] - 1s 23us/step - loss: 0.5240 - acc: 0.7926 - val_loss: 0.5709 - val_acc: 0.7791\n",
            "Epoch 13/100\n",
            "39601/39601 [==============================] - 1s 23us/step - loss: 0.5163 - acc: 0.7969 - val_loss: 0.5712 - val_acc: 0.7822\n",
            "Epoch 14/100\n",
            "39601/39601 [==============================] - 1s 23us/step - loss: 0.5166 - acc: 0.7949 - val_loss: 0.5666 - val_acc: 0.7812\n",
            "Epoch 15/100\n",
            "39601/39601 [==============================] - 1s 22us/step - loss: 0.5082 - acc: 0.8008 - val_loss: 0.5649 - val_acc: 0.7817\n",
            "Epoch 16/100\n",
            "39601/39601 [==============================] - 1s 22us/step - loss: 0.5050 - acc: 0.8012 - val_loss: 0.5648 - val_acc: 0.7813\n",
            "Epoch 17/100\n",
            "39601/39601 [==============================] - 1s 23us/step - loss: 0.5018 - acc: 0.8031 - val_loss: 0.5619 - val_acc: 0.7836\n",
            "Epoch 18/100\n",
            "39601/39601 [==============================] - 1s 22us/step - loss: 0.4981 - acc: 0.8040 - val_loss: 0.5606 - val_acc: 0.7846\n",
            "Epoch 19/100\n",
            "39601/39601 [==============================] - 1s 23us/step - loss: 0.4940 - acc: 0.8058 - val_loss: 0.5609 - val_acc: 0.7829\n",
            "Epoch 20/100\n",
            "39601/39601 [==============================] - 1s 21us/step - loss: 0.4911 - acc: 0.8076 - val_loss: 0.5620 - val_acc: 0.7809\n",
            "Epoch 21/100\n",
            "39601/39601 [==============================] - 1s 21us/step - loss: 0.4893 - acc: 0.8074 - val_loss: 0.5620 - val_acc: 0.7836\n",
            "Epoch 22/100\n",
            "39601/39601 [==============================] - 1s 21us/step - loss: 0.4852 - acc: 0.8076 - val_loss: 0.5604 - val_acc: 0.7827\n",
            "Epoch 23/100\n",
            "39601/39601 [==============================] - 1s 21us/step - loss: 0.4833 - acc: 0.8093 - val_loss: 0.5612 - val_acc: 0.7821\n",
            "Epoch 24/100\n",
            "39601/39601 [==============================] - 1s 21us/step - loss: 0.4819 - acc: 0.8098 - val_loss: 0.5596 - val_acc: 0.7819\n",
            "Epoch 25/100\n",
            "39601/39601 [==============================] - 1s 21us/step - loss: 0.4789 - acc: 0.8124 - val_loss: 0.5609 - val_acc: 0.7845\n",
            "Epoch 26/100\n",
            "39601/39601 [==============================] - 1s 20us/step - loss: 0.4767 - acc: 0.8127 - val_loss: 0.5597 - val_acc: 0.7846\n",
            "Epoch 27/100\n",
            "39601/39601 [==============================] - 1s 20us/step - loss: 0.4722 - acc: 0.8135 - val_loss: 0.5576 - val_acc: 0.7850\n",
            "Epoch 28/100\n",
            "39601/39601 [==============================] - 1s 20us/step - loss: 0.4695 - acc: 0.8148 - val_loss: 0.5580 - val_acc: 0.7863\n",
            "Epoch 29/100\n",
            "39601/39601 [==============================] - 1s 20us/step - loss: 0.4678 - acc: 0.8153 - val_loss: 0.5582 - val_acc: 0.7853\n",
            "Epoch 30/100\n",
            "39601/39601 [==============================] - 1s 20us/step - loss: 0.4664 - acc: 0.8149 - val_loss: 0.5597 - val_acc: 0.7857\n",
            "Epoch 31/100\n",
            "39601/39601 [==============================] - 1s 20us/step - loss: 0.4635 - acc: 0.8183 - val_loss: 0.5593 - val_acc: 0.7853\n",
            "Epoch 32/100\n",
            "39601/39601 [==============================] - 1s 20us/step - loss: 0.4618 - acc: 0.8176 - val_loss: 0.5606 - val_acc: 0.7874\n",
            "Epoch 33/100\n",
            "39601/39601 [==============================] - 1s 20us/step - loss: 0.4642 - acc: 0.8150 - val_loss: 0.5622 - val_acc: 0.7848\n",
            "Epoch 34/100\n",
            "39601/39601 [==============================] - 1s 20us/step - loss: 0.4577 - acc: 0.8197 - val_loss: 0.5636 - val_acc: 0.7859\n",
            "Epoch 35/100\n",
            "39601/39601 [==============================] - 1s 21us/step - loss: 0.4564 - acc: 0.8187 - val_loss: 0.5571 - val_acc: 0.7883\n",
            "Epoch 36/100\n",
            "39601/39601 [==============================] - 1s 20us/step - loss: 0.4536 - acc: 0.8202 - val_loss: 0.5605 - val_acc: 0.7880\n",
            "Epoch 37/100\n",
            "39601/39601 [==============================] - 1s 20us/step - loss: 0.4587 - acc: 0.8190 - val_loss: 0.5612 - val_acc: 0.7862\n",
            "Epoch 38/100\n",
            "39601/39601 [==============================] - 1s 20us/step - loss: 0.4530 - acc: 0.8208 - val_loss: 0.5622 - val_acc: 0.7889\n",
            "Epoch 39/100\n",
            "39601/39601 [==============================] - 1s 21us/step - loss: 0.4509 - acc: 0.8208 - val_loss: 0.5603 - val_acc: 0.7874\n",
            "Epoch 40/100\n",
            "39601/39601 [==============================] - 1s 20us/step - loss: 0.4486 - acc: 0.8223 - val_loss: 0.5599 - val_acc: 0.7875\n",
            "Epoch 41/100\n",
            "39601/39601 [==============================] - 1s 20us/step - loss: 0.4471 - acc: 0.8236 - val_loss: 0.5621 - val_acc: 0.7874\n",
            "Epoch 42/100\n",
            "39601/39601 [==============================] - 1s 20us/step - loss: 0.4461 - acc: 0.8235 - val_loss: 0.5628 - val_acc: 0.7866\n",
            "Epoch 43/100\n",
            "39601/39601 [==============================] - 1s 20us/step - loss: 0.4449 - acc: 0.8231 - val_loss: 0.5592 - val_acc: 0.7866\n",
            "Epoch 44/100\n",
            "39601/39601 [==============================] - 1s 20us/step - loss: 0.4441 - acc: 0.8236 - val_loss: 0.5631 - val_acc: 0.7884\n",
            "Epoch 45/100\n",
            "39601/39601 [==============================] - 1s 20us/step - loss: 0.4440 - acc: 0.8232 - val_loss: 0.5613 - val_acc: 0.7888\n",
            "Epoch 46/100\n",
            "39601/39601 [==============================] - 1s 20us/step - loss: 0.4454 - acc: 0.8238 - val_loss: 0.5617 - val_acc: 0.7889\n",
            "Epoch 47/100\n",
            "39601/39601 [==============================] - 1s 20us/step - loss: 0.4406 - acc: 0.8250 - val_loss: 0.5630 - val_acc: 0.7887\n",
            "Epoch 48/100\n",
            "39601/39601 [==============================] - 1s 21us/step - loss: 0.4384 - acc: 0.8264 - val_loss: 0.5638 - val_acc: 0.7893\n",
            "Epoch 49/100\n",
            "39601/39601 [==============================] - 1s 21us/step - loss: 0.4401 - acc: 0.8255 - val_loss: 0.5656 - val_acc: 0.7868\n",
            "Epoch 50/100\n",
            "39601/39601 [==============================] - 1s 21us/step - loss: 0.4383 - acc: 0.8254 - val_loss: 0.5654 - val_acc: 0.7890\n",
            "Epoch 51/100\n",
            "39601/39601 [==============================] - 1s 20us/step - loss: 0.4358 - acc: 0.8272 - val_loss: 0.5655 - val_acc: 0.7889\n",
            "Epoch 52/100\n",
            "39601/39601 [==============================] - 1s 20us/step - loss: 0.4352 - acc: 0.8275 - val_loss: 0.5670 - val_acc: 0.7896\n",
            "Epoch 53/100\n",
            "39601/39601 [==============================] - 1s 21us/step - loss: 0.4332 - acc: 0.8284 - val_loss: 0.5720 - val_acc: 0.7877\n",
            "Epoch 54/100\n",
            "39601/39601 [==============================] - 1s 21us/step - loss: 0.4331 - acc: 0.8274 - val_loss: 0.5660 - val_acc: 0.7895\n",
            "Epoch 55/100\n",
            "39601/39601 [==============================] - 1s 20us/step - loss: 0.4317 - acc: 0.8285 - val_loss: 0.5684 - val_acc: 0.7895\n",
            "Epoch 56/100\n",
            "39601/39601 [==============================] - 1s 20us/step - loss: 0.4311 - acc: 0.8284 - val_loss: 0.5705 - val_acc: 0.7864\n",
            "Epoch 57/100\n",
            "39601/39601 [==============================] - 1s 20us/step - loss: 0.4297 - acc: 0.8291 - val_loss: 0.5682 - val_acc: 0.7876\n",
            "Epoch 58/100\n",
            "39601/39601 [==============================] - 1s 21us/step - loss: 0.4290 - acc: 0.8299 - val_loss: 0.5687 - val_acc: 0.7893\n",
            "Epoch 59/100\n",
            "39601/39601 [==============================] - 1s 21us/step - loss: 0.4316 - acc: 0.8288 - val_loss: 0.5712 - val_acc: 0.7865\n",
            "Epoch 60/100\n",
            "39601/39601 [==============================] - 1s 21us/step - loss: 0.4276 - acc: 0.8302 - val_loss: 0.5685 - val_acc: 0.7901\n",
            "Epoch 61/100\n",
            "39601/39601 [==============================] - 1s 20us/step - loss: 0.4270 - acc: 0.8313 - val_loss: 0.5703 - val_acc: 0.7896\n",
            "Epoch 62/100\n",
            "39601/39601 [==============================] - 1s 21us/step - loss: 0.4278 - acc: 0.8293 - val_loss: 0.5720 - val_acc: 0.7886\n",
            "Epoch 63/100\n",
            "39601/39601 [==============================] - 1s 20us/step - loss: 0.4251 - acc: 0.8324 - val_loss: 0.5760 - val_acc: 0.7857\n",
            "Epoch 64/100\n",
            "39601/39601 [==============================] - 1s 20us/step - loss: 0.4275 - acc: 0.8299 - val_loss: 0.5754 - val_acc: 0.7878\n",
            "Epoch 65/100\n",
            "39601/39601 [==============================] - 1s 20us/step - loss: 0.4244 - acc: 0.8315 - val_loss: 0.5751 - val_acc: 0.7869\n",
            "Epoch 66/100\n",
            "39601/39601 [==============================] - 1s 21us/step - loss: 0.4229 - acc: 0.8328 - val_loss: 0.5750 - val_acc: 0.7890\n",
            "Epoch 67/100\n",
            "39601/39601 [==============================] - 1s 20us/step - loss: 0.4240 - acc: 0.8312 - val_loss: 0.5741 - val_acc: 0.7880\n",
            "Epoch 68/100\n",
            "39601/39601 [==============================] - 1s 20us/step - loss: 0.4216 - acc: 0.8331 - val_loss: 0.5741 - val_acc: 0.7881\n",
            "Epoch 69/100\n",
            "39601/39601 [==============================] - 1s 20us/step - loss: 0.4223 - acc: 0.8323 - val_loss: 0.5776 - val_acc: 0.7891\n",
            "Epoch 70/100\n",
            "39601/39601 [==============================] - 1s 20us/step - loss: 0.4220 - acc: 0.8339 - val_loss: 0.5765 - val_acc: 0.7852\n",
            "Epoch 71/100\n",
            "39601/39601 [==============================] - 1s 20us/step - loss: 0.4192 - acc: 0.8326 - val_loss: 0.5829 - val_acc: 0.7859\n",
            "Epoch 72/100\n",
            "39601/39601 [==============================] - 1s 20us/step - loss: 0.4212 - acc: 0.8337 - val_loss: 0.5793 - val_acc: 0.7868\n",
            "Epoch 73/100\n",
            "39601/39601 [==============================] - 1s 20us/step - loss: 0.4188 - acc: 0.8343 - val_loss: 0.5774 - val_acc: 0.7864\n",
            "Epoch 74/100\n",
            "39601/39601 [==============================] - 1s 20us/step - loss: 0.4178 - acc: 0.8339 - val_loss: 0.5781 - val_acc: 0.7887\n",
            "Epoch 75/100\n",
            "39601/39601 [==============================] - 1s 20us/step - loss: 0.4169 - acc: 0.8347 - val_loss: 0.5809 - val_acc: 0.7874\n",
            "Epoch 76/100\n",
            "39601/39601 [==============================] - 1s 20us/step - loss: 0.4192 - acc: 0.8338 - val_loss: 0.5814 - val_acc: 0.7864\n",
            "Epoch 77/100\n",
            "39601/39601 [==============================] - 1s 20us/step - loss: 0.4176 - acc: 0.8349 - val_loss: 0.5790 - val_acc: 0.7896\n",
            "Epoch 78/100\n",
            "39601/39601 [==============================] - 1s 20us/step - loss: 0.4155 - acc: 0.8347 - val_loss: 0.5810 - val_acc: 0.7880\n",
            "Epoch 79/100\n",
            "39601/39601 [==============================] - 1s 20us/step - loss: 0.4151 - acc: 0.8348 - val_loss: 0.5819 - val_acc: 0.7885\n",
            "Epoch 80/100\n",
            "39601/39601 [==============================] - 1s 21us/step - loss: 0.4142 - acc: 0.8358 - val_loss: 0.5833 - val_acc: 0.7858\n",
            "Epoch 81/100\n",
            "39601/39601 [==============================] - 1s 21us/step - loss: 0.4144 - acc: 0.8354 - val_loss: 0.5839 - val_acc: 0.7876\n",
            "Epoch 82/100\n",
            "39601/39601 [==============================] - 1s 20us/step - loss: 0.4145 - acc: 0.8365 - val_loss: 0.5857 - val_acc: 0.7853\n",
            "Epoch 83/100\n",
            "39601/39601 [==============================] - 1s 21us/step - loss: 0.4132 - acc: 0.8363 - val_loss: 0.5848 - val_acc: 0.7871\n",
            "Epoch 84/100\n",
            "39601/39601 [==============================] - 1s 20us/step - loss: 0.4125 - acc: 0.8361 - val_loss: 0.5960 - val_acc: 0.7845\n",
            "Epoch 85/100\n",
            "39601/39601 [==============================] - 1s 20us/step - loss: 0.4136 - acc: 0.8369 - val_loss: 0.5864 - val_acc: 0.7854\n",
            "Epoch 86/100\n",
            "39601/39601 [==============================] - 1s 20us/step - loss: 0.4116 - acc: 0.8375 - val_loss: 0.5918 - val_acc: 0.7862\n",
            "Epoch 87/100\n",
            "39601/39601 [==============================] - 1s 21us/step - loss: 0.4148 - acc: 0.8362 - val_loss: 0.5846 - val_acc: 0.7878\n",
            "Epoch 88/100\n",
            "39601/39601 [==============================] - 1s 21us/step - loss: 0.4107 - acc: 0.8379 - val_loss: 0.5887 - val_acc: 0.7856\n",
            "Epoch 89/100\n",
            "39601/39601 [==============================] - 1s 20us/step - loss: 0.4099 - acc: 0.8381 - val_loss: 0.5889 - val_acc: 0.7873\n",
            "Epoch 90/100\n",
            "39601/39601 [==============================] - 1s 20us/step - loss: 0.4090 - acc: 0.8382 - val_loss: 0.5957 - val_acc: 0.7847\n",
            "Epoch 91/100\n",
            "39601/39601 [==============================] - 1s 20us/step - loss: 0.4093 - acc: 0.8382 - val_loss: 0.5891 - val_acc: 0.7864\n",
            "Epoch 92/100\n",
            "39601/39601 [==============================] - 1s 20us/step - loss: 0.4090 - acc: 0.8383 - val_loss: 0.5905 - val_acc: 0.7853\n",
            "Epoch 93/100\n",
            "39601/39601 [==============================] - 1s 20us/step - loss: 0.4099 - acc: 0.8384 - val_loss: 0.5953 - val_acc: 0.7867\n",
            "Epoch 94/100\n",
            "39601/39601 [==============================] - 1s 21us/step - loss: 0.4083 - acc: 0.8386 - val_loss: 0.5901 - val_acc: 0.7849\n",
            "Epoch 95/100\n",
            "39601/39601 [==============================] - 1s 21us/step - loss: 0.4082 - acc: 0.8379 - val_loss: 0.5979 - val_acc: 0.7875\n",
            "Epoch 96/100\n",
            "39601/39601 [==============================] - 1s 21us/step - loss: 0.4076 - acc: 0.8380 - val_loss: 0.5946 - val_acc: 0.7856\n",
            "Epoch 97/100\n",
            "39601/39601 [==============================] - 1s 21us/step - loss: 0.4089 - acc: 0.8381 - val_loss: 0.5928 - val_acc: 0.7844\n",
            "Epoch 98/100\n",
            "39601/39601 [==============================] - 1s 21us/step - loss: 0.4067 - acc: 0.8384 - val_loss: 0.6012 - val_acc: 0.7841\n",
            "Epoch 99/100\n",
            "39601/39601 [==============================] - 1s 20us/step - loss: 0.4070 - acc: 0.8378 - val_loss: 0.5954 - val_acc: 0.7880\n",
            "Epoch 100/100\n",
            "39601/39601 [==============================] - 1s 20us/step - loss: 0.4104 - acc: 0.8367 - val_loss: 0.5948 - val_acc: 0.7863\n"
          ],
          "name": "stdout"
        }
      ]
    },
    {
      "cell_type": "markdown",
      "metadata": {
        "id": "_aK9T5oiP_uQ",
        "colab_type": "text"
      },
      "source": [
        "## Graphs"
      ]
    },
    {
      "cell_type": "code",
      "metadata": {
        "id": "JdICM28TEfHY",
        "colab_type": "code",
        "outputId": "5a1b895c-11dd-4e73-a206-5f4da3adcb02",
        "colab": {
          "base_uri": "https://localhost:8080/",
          "height": 312
        }
      },
      "source": [
        "import matplotlib.pyplot as plt\n",
        "import seaborn as sns\n",
        "acc=history.history['acc']  ##getting  accuracy of each epochs\n",
        "epochs_=range(0,100)    \n",
        "plt.plot(epochs_,acc,label='training accuracy')\n",
        "plt.xlabel('no of epochs')\n",
        "plt.ylabel('accuracy')\n",
        "\n",
        "acc_val=history.history['val_acc']  ##getting validation accuracy of each epochs\n",
        "plt.scatter(epochs_,acc_val,label=\"validation accuracy\")\n",
        "plt.title(\"no of epochs vs accuracy\")\n",
        "plt.legend()"
      ],
      "execution_count": 22,
      "outputs": [
        {
          "output_type": "execute_result",
          "data": {
            "text/plain": [
              "<matplotlib.legend.Legend at 0x7fd80c0a3208>"
            ]
          },
          "metadata": {
            "tags": []
          },
          "execution_count": 22
        },
        {
          "output_type": "display_data",
          "data": {
            "image/png": "[encoded data removed]",
            "text/plain": [
              "<Figure size 432x288 with 1 Axes>"
            ]
          },
          "metadata": {
            "tags": []
          }
        }
      ]
    },
    {
      "cell_type": "code",
      "metadata": {
        "id": "kUBNHKYKEgb5",
        "colab_type": "code",
        "outputId": "33dc9bfe-7277-433e-e19d-3a221b626cd2",
        "colab": {
          "base_uri": "https://localhost:8080/",
          "height": 312
        }
      },
      "source": [
        "acc=history.history['loss']    ##getting  loss of each epochs\n",
        "epochs_=range(0,100)\n",
        "plt.plot(epochs_,acc,label='training loss')\n",
        "plt.xlabel('No of epochs')\n",
        "plt.ylabel('loss')\n",
        "\n",
        "acc_val=history.history['val_loss']  ## getting validation loss of each epochs\n",
        "plt.scatter(epochs_,acc_val,label=\"validation loss\")\n",
        "plt.title('no of epochs vs loss')\n",
        "plt.legend()"
      ],
      "execution_count": 23,
      "outputs": [
        {
          "output_type": "execute_result",
          "data": {
            "text/plain": [
              "<matplotlib.legend.Legend at 0x7fd800911940>"
            ]
          },
          "metadata": {
            "tags": []
          },
          "execution_count": 23
        },
        {
          "output_type": "display_data",
          "data": {
            "image/png": "[encoded data removed]",
            "text/plain": [
              "<Figure size 432x288 with 1 Axes>"
            ]
          },
          "metadata": {
            "tags": []
          }
        }
      ]
    },
    {
      "cell_type": "code",
      "metadata": {
        "id": "iomAvRX3ELDh",
        "colab_type": "code",
        "colab": {
          "base_uri": "https://localhost:8080/",
          "height": 4336
        },
        "outputId": "1838bbc7-31e6-4077-bb2b-6af52da97ee4"
      },
      "source": [
        "from keras.wrappers.scikit_learn import KerasClassifier\n",
        "estimator = KerasClassifier(build_fn=keras_model, epochs=100, batch_size=500)\n",
        "\n",
        "from sklearn.model_selection import cross_val_score\n",
        "results = cross_val_score(estimator, X, dummy_y, cv=10)\n",
        "\n",
        "print(\"Baseline: %.2f%% (%.2f%%)\" % (results.mean()*100, results.std()*100))"
      ],
      "execution_count": 24,
      "outputs": [
        {
          "output_type": "stream",
          "text": [
            "Epoch 1/100\n",
            "55690/55690 [==============================] - 1s 9us/step - loss: 1.1554 - acc: 0.6771\n",
            "Epoch 2/100\n",
            "55690/55690 [==============================] - 0s 7us/step - loss: 0.6526 - acc: 0.7634\n",
            "Epoch 3/100\n",
            "55690/55690 [==============================] - 0s 6us/step - loss: 0.6040 - acc: 0.7731\n",
            "Epoch 4/100\n",
            "55690/55690 [==============================] - 0s 7us/step - loss: 0.5807 - acc: 0.7809\n",
            "Epoch 5/100\n",
            "55690/55690 [==============================] - 0s 7us/step - loss: 0.5648 - acc: 0.7859\n",
            "Epoch 6/100\n",
            "55690/55690 [==============================] - 0s 6us/step - loss: 0.5531 - acc: 0.7889\n",
            "Epoch 7/100\n",
            "55690/55690 [==============================] - 0s 6us/step - loss: 0.5439 - acc: 0.7916\n",
            "Epoch 8/100\n",
            "55690/55690 [==============================] - 0s 7us/step - loss: 0.5360 - acc: 0.7950\n",
            "Epoch 9/100\n",
            "55690/55690 [==============================] - 0s 6us/step - loss: 0.5286 - acc: 0.7969\n",
            "Epoch 10/100\n",
            "55690/55690 [==============================] - 0s 6us/step - loss: 0.5232 - acc: 0.7993\n",
            "Epoch 11/100\n",
            "55690/55690 [==============================] - 0s 7us/step - loss: 0.5160 - acc: 0.8008\n",
            "Epoch 12/100\n",
            "55690/55690 [==============================] - 0s 6us/step - loss: 0.5090 - acc: 0.8032\n",
            "Epoch 13/100\n",
            "55690/55690 [==============================] - 0s 7us/step - loss: 0.5041 - acc: 0.8050\n",
            "Epoch 14/100\n",
            "55690/55690 [==============================] - 0s 6us/step - loss: 0.5002 - acc: 0.8057\n",
            "Epoch 15/100\n",
            "55690/55690 [==============================] - 0s 7us/step - loss: 0.4941 - acc: 0.8077\n",
            "Epoch 16/100\n",
            "55690/55690 [==============================] - 0s 7us/step - loss: 0.4896 - acc: 0.8086\n",
            "Epoch 17/100\n",
            "55690/55690 [==============================] - 0s 6us/step - loss: 0.4863 - acc: 0.8104\n",
            "Epoch 18/100\n",
            "55690/55690 [==============================] - 0s 6us/step - loss: 0.4819 - acc: 0.8115\n",
            "Epoch 19/100\n",
            "55690/55690 [==============================] - 0s 7us/step - loss: 0.4778 - acc: 0.8129\n",
            "Epoch 20/100\n",
            "55690/55690 [==============================] - 0s 6us/step - loss: 0.4749 - acc: 0.8136\n",
            "Epoch 21/100\n",
            "55690/55690 [==============================] - 0s 6us/step - loss: 0.4715 - acc: 0.8144\n",
            "Epoch 22/100\n",
            "55690/55690 [==============================] - 0s 7us/step - loss: 0.4678 - acc: 0.8149\n",
            "Epoch 23/100\n",
            "55690/55690 [==============================] - 0s 6us/step - loss: 0.4643 - acc: 0.8167\n",
            "Epoch 24/100\n",
            "55690/55690 [==============================] - 0s 6us/step - loss: 0.4617 - acc: 0.8178\n",
            "Epoch 25/100\n",
            "55690/55690 [==============================] - 0s 7us/step - loss: 0.4589 - acc: 0.8183\n",
            "Epoch 26/100\n",
            "55690/55690 [==============================] - 0s 6us/step - loss: 0.4561 - acc: 0.8199\n",
            "Epoch 27/100\n",
            "55690/55690 [==============================] - 0s 6us/step - loss: 0.4538 - acc: 0.8191\n",
            "Epoch 28/100\n",
            "55690/55690 [==============================] - 0s 7us/step - loss: 0.4504 - acc: 0.8208\n",
            "Epoch 29/100\n",
            "55690/55690 [==============================] - 0s 6us/step - loss: 0.4481 - acc: 0.8222\n",
            "Epoch 30/100\n",
            "55690/55690 [==============================] - 0s 7us/step - loss: 0.4452 - acc: 0.8226\n",
            "Epoch 31/100\n",
            "55690/55690 [==============================] - 0s 6us/step - loss: 0.4433 - acc: 0.8241\n",
            "Epoch 32/100\n",
            "55690/55690 [==============================] - 0s 6us/step - loss: 0.4416 - acc: 0.8229\n",
            "Epoch 33/100\n",
            "55690/55690 [==============================] - 0s 7us/step - loss: 0.4387 - acc: 0.8246\n",
            "Epoch 34/100\n",
            "55690/55690 [==============================] - 0s 6us/step - loss: 0.4370 - acc: 0.8255\n",
            "Epoch 35/100\n",
            "55690/55690 [==============================] - 0s 6us/step - loss: 0.4349 - acc: 0.8264\n",
            "Epoch 36/100\n",
            "55690/55690 [==============================] - 0s 7us/step - loss: 0.4323 - acc: 0.8270\n",
            "Epoch 37/100\n",
            "55690/55690 [==============================] - 0s 6us/step - loss: 0.4313 - acc: 0.8273\n",
            "Epoch 38/100\n",
            "55690/55690 [==============================] - 0s 6us/step - loss: 0.4289 - acc: 0.8289\n",
            "Epoch 39/100\n",
            "55690/55690 [==============================] - 0s 7us/step - loss: 0.4278 - acc: 0.8295\n",
            "Epoch 40/100\n",
            "55690/55690 [==============================] - 0s 6us/step - loss: 0.4254 - acc: 0.8292\n",
            "Epoch 41/100\n",
            "55690/55690 [==============================] - 0s 6us/step - loss: 0.4247 - acc: 0.8297\n",
            "Epoch 42/100\n",
            "55690/55690 [==============================] - 0s 7us/step - loss: 0.4225 - acc: 0.8307\n",
            "Epoch 43/100\n",
            "55690/55690 [==============================] - 0s 6us/step - loss: 0.4211 - acc: 0.8320\n",
            "Epoch 44/100\n",
            "55690/55690 [==============================] - 0s 6us/step - loss: 0.4200 - acc: 0.8321\n",
            "Epoch 45/100\n",
            "55690/55690 [==============================] - 0s 7us/step - loss: 0.4183 - acc: 0.8322\n",
            "Epoch 46/100\n",
            "55690/55690 [==============================] - 0s 6us/step - loss: 0.4172 - acc: 0.8319\n",
            "Epoch 47/100\n",
            "55690/55690 [==============================] - 0s 6us/step - loss: 0.4155 - acc: 0.8331\n",
            "Epoch 48/100\n",
            "55690/55690 [==============================] - 0s 6us/step - loss: 0.4143 - acc: 0.8334\n",
            "Epoch 49/100\n",
            "55690/55690 [==============================] - 0s 6us/step - loss: 0.4126 - acc: 0.8346\n",
            "Epoch 50/100\n",
            "55690/55690 [==============================] - 0s 6us/step - loss: 0.4122 - acc: 0.8343\n",
            "Epoch 51/100\n",
            "55690/55690 [==============================] - 0s 6us/step - loss: 0.4102 - acc: 0.8356\n",
            "Epoch 52/100\n",
            "55690/55690 [==============================] - 0s 6us/step - loss: 0.4097 - acc: 0.8348\n",
            "Epoch 53/100\n",
            "55690/55690 [==============================] - 0s 6us/step - loss: 0.4098 - acc: 0.8345\n",
            "Epoch 54/100\n",
            "55690/55690 [==============================] - 0s 6us/step - loss: 0.4069 - acc: 0.8359\n",
            "Epoch 55/100\n",
            "55690/55690 [==============================] - 0s 6us/step - loss: 0.4065 - acc: 0.8361\n",
            "Epoch 56/100\n",
            "55690/55690 [==============================] - 0s 7us/step - loss: 0.4057 - acc: 0.8362\n",
            "Epoch 57/100\n",
            "55690/55690 [==============================] - 0s 6us/step - loss: 0.4050 - acc: 0.8365\n",
            "Epoch 58/100\n",
            "55690/55690 [==============================] - 0s 6us/step - loss: 0.4040 - acc: 0.8374\n",
            "Epoch 59/100\n",
            "55690/55690 [==============================] - 0s 7us/step - loss: 0.4026 - acc: 0.8382\n",
            "Epoch 60/100\n",
            "55690/55690 [==============================] - 0s 6us/step - loss: 0.4021 - acc: 0.8382\n",
            "Epoch 61/100\n",
            "55690/55690 [==============================] - 0s 6us/step - loss: 0.4010 - acc: 0.8389\n",
            "Epoch 62/100\n",
            "55690/55690 [==============================] - 0s 7us/step - loss: 0.4007 - acc: 0.8386\n",
            "Epoch 63/100\n",
            "55690/55690 [==============================] - 0s 6us/step - loss: 0.3993 - acc: 0.8380\n",
            "Epoch 64/100\n",
            "55690/55690 [==============================] - 0s 7us/step - loss: 0.3986 - acc: 0.8386\n",
            "Epoch 65/100\n",
            "55690/55690 [==============================] - 0s 6us/step - loss: 0.3977 - acc: 0.8398\n",
            "Epoch 66/100\n",
            "55690/55690 [==============================] - 0s 7us/step - loss: 0.3970 - acc: 0.8400\n",
            "Epoch 67/100\n",
            "55690/55690 [==============================] - 0s 7us/step - loss: 0.3971 - acc: 0.8397\n",
            "Epoch 68/100\n",
            "55690/55690 [==============================] - 0s 7us/step - loss: 0.3953 - acc: 0.8409\n",
            "Epoch 69/100\n",
            "55690/55690 [==============================] - 0s 6us/step - loss: 0.3943 - acc: 0.8406\n",
            "Epoch 70/100\n",
            "55690/55690 [==============================] - 0s 7us/step - loss: 0.3941 - acc: 0.8411\n",
            "Epoch 71/100\n",
            "55690/55690 [==============================] - 0s 6us/step - loss: 0.3934 - acc: 0.8411\n",
            "Epoch 72/100\n",
            "55690/55690 [==============================] - 0s 7us/step - loss: 0.3925 - acc: 0.8409\n",
            "Epoch 73/100\n",
            "55690/55690 [==============================] - 0s 6us/step - loss: 0.3922 - acc: 0.8426\n",
            "Epoch 74/100\n",
            "55690/55690 [==============================] - 0s 6us/step - loss: 0.3915 - acc: 0.8423\n",
            "Epoch 75/100\n",
            "55690/55690 [==============================] - 0s 6us/step - loss: 0.3909 - acc: 0.8424\n",
            "Epoch 76/100\n",
            "55690/55690 [==============================] - 0s 6us/step - loss: 0.3905 - acc: 0.8418\n",
            "Epoch 77/100\n",
            "55690/55690 [==============================] - 0s 6us/step - loss: 0.3909 - acc: 0.8431\n",
            "Epoch 78/100\n",
            "55690/55690 [==============================] - 0s 6us/step - loss: 0.3893 - acc: 0.8436\n",
            "Epoch 79/100\n",
            "55690/55690 [==============================] - 0s 7us/step - loss: 0.3883 - acc: 0.8432\n",
            "Epoch 80/100\n",
            "55690/55690 [==============================] - 0s 6us/step - loss: 0.3878 - acc: 0.8431\n",
            "Epoch 81/100\n",
            "55690/55690 [==============================] - 0s 7us/step - loss: 0.3875 - acc: 0.8442\n",
            "Epoch 82/100\n",
            "55690/55690 [==============================] - 0s 6us/step - loss: 0.3872 - acc: 0.8437\n",
            "Epoch 83/100\n",
            "55690/55690 [==============================] - 0s 7us/step - loss: 0.3864 - acc: 0.8444\n",
            "Epoch 84/100\n",
            "55690/55690 [==============================] - 0s 6us/step - loss: 0.3872 - acc: 0.8449\n",
            "Epoch 85/100\n",
            "55690/55690 [==============================] - 0s 6us/step - loss: 0.3860 - acc: 0.8441\n",
            "Epoch 86/100\n",
            "55690/55690 [==============================] - 0s 6us/step - loss: 0.3854 - acc: 0.8448\n",
            "Epoch 87/100\n",
            "55690/55690 [==============================] - 0s 6us/step - loss: 0.3851 - acc: 0.8453\n",
            "Epoch 88/100\n",
            "55690/55690 [==============================] - 0s 7us/step - loss: 0.3841 - acc: 0.8454\n",
            "Epoch 89/100\n",
            "55690/55690 [==============================] - 0s 6us/step - loss: 0.3839 - acc: 0.8441\n",
            "Epoch 90/100\n",
            "55690/55690 [==============================] - 0s 7us/step - loss: 0.3834 - acc: 0.8458\n",
            "Epoch 91/100\n",
            "55690/55690 [==============================] - 0s 7us/step - loss: 0.3829 - acc: 0.8452\n",
            "Epoch 92/100\n",
            "55690/55690 [==============================] - 0s 6us/step - loss: 0.3822 - acc: 0.8459\n",
            "Epoch 93/100\n",
            "55690/55690 [==============================] - 0s 7us/step - loss: 0.3816 - acc: 0.8466\n",
            "Epoch 94/100\n",
            "55690/55690 [==============================] - 0s 6us/step - loss: 0.3824 - acc: 0.8450\n",
            "Epoch 95/100\n",
            "55690/55690 [==============================] - 0s 6us/step - loss: 0.3810 - acc: 0.8456\n",
            "Epoch 96/100\n",
            "55690/55690 [==============================] - 0s 6us/step - loss: 0.3810 - acc: 0.8462\n",
            "Epoch 97/100\n",
            "55690/55690 [==============================] - 0s 6us/step - loss: 0.3812 - acc: 0.8464\n",
            "Epoch 98/100\n",
            "55690/55690 [==============================] - 0s 7us/step - loss: 0.3802 - acc: 0.8463\n",
            "Epoch 99/100\n",
            "55690/55690 [==============================] - 0s 6us/step - loss: 0.3800 - acc: 0.8470\n",
            "Epoch 100/100\n",
            "55690/55690 [==============================] - 0s 6us/step - loss: 0.3793 - acc: 0.8460\n",
            "6188/6188 [==============================] - 0s 9us/step\n",
            "Epoch 1/100\n",
            "55690/55690 [==============================] - 1s 9us/step - loss: 1.1845 - acc: 0.6404\n",
            "Epoch 2/100\n",
            "55690/55690 [==============================] - 0s 7us/step - loss: 0.7124 - acc: 0.7482\n",
            "Epoch 3/100\n",
            "55690/55690 [==============================] - 0s 6us/step - loss: 0.6619 - acc: 0.7606\n",
            "Epoch 4/100\n",
            "55690/55690 [==============================] - 0s 6us/step - loss: 0.6390 - acc: 0.7681\n",
            "Epoch 5/100\n",
            "55690/55690 [==============================] - 0s 6us/step - loss: 0.6226 - acc: 0.7725\n",
            "Epoch 6/100\n",
            "55690/55690 [==============================] - 0s 6us/step - loss: 0.6099 - acc: 0.7764\n",
            "Epoch 7/100\n",
            "55690/55690 [==============================] - 0s 6us/step - loss: 0.6002 - acc: 0.7803\n",
            "Epoch 8/100\n",
            "55690/55690 [==============================] - 0s 7us/step - loss: 0.5914 - acc: 0.7818\n",
            "Epoch 9/100\n",
            "55690/55690 [==============================] - 0s 6us/step - loss: 0.5841 - acc: 0.7844\n",
            "Epoch 10/100\n",
            "55690/55690 [==============================] - 0s 6us/step - loss: 0.5759 - acc: 0.7869\n",
            "Epoch 11/100\n",
            "55690/55690 [==============================] - 0s 7us/step - loss: 0.5692 - acc: 0.7884\n",
            "Epoch 12/100\n",
            "55690/55690 [==============================] - 0s 6us/step - loss: 0.5624 - acc: 0.7907\n",
            "Epoch 13/100\n",
            "55690/55690 [==============================] - 0s 6us/step - loss: 0.5565 - acc: 0.7919\n",
            "Epoch 14/100\n",
            "55690/55690 [==============================] - 0s 7us/step - loss: 0.5508 - acc: 0.7930\n",
            "Epoch 15/100\n",
            "55690/55690 [==============================] - 0s 6us/step - loss: 0.5457 - acc: 0.7945\n",
            "Epoch 16/100\n",
            "21500/55690 [==========>...................] - ETA: 0s - loss: 0.5402 - acc: 0.7960"
          ],
          "name": "stdout"
        },
        {
          "output_type": "error",
          "ename": "KeyboardInterrupt",
          "evalue": "ignored",
          "traceback": [
            "\u001b[0;31m---------------------------------------------------------------------------\u001b[0m",
            "\u001b[0;31mKeyboardInterrupt\u001b[0m                         Traceback (most recent call last)",
            "\u001b[0;32m<ipython-input-24-d5025c8dc211>\u001b[0m in \u001b[0;36m<module>\u001b[0;34m()\u001b[0m\n\u001b[1;32m      3\u001b[0m \u001b[0;34m\u001b[0m\u001b[0m\n\u001b[1;32m      4\u001b[0m \u001b[0;32mfrom\u001b[0m \u001b[0msklearn\u001b[0m\u001b[0;34m.\u001b[0m\u001b[0mmodel_selection\u001b[0m \u001b[0;32mimport\u001b[0m \u001b[0mcross_val_score\u001b[0m\u001b[0;34m\u001b[0m\u001b[0;34m\u001b[0m\u001b[0m\n\u001b[0;32m----> 5\u001b[0;31m \u001b[0mresults\u001b[0m \u001b[0;34m=\u001b[0m \u001b[0mcross_val_score\u001b[0m\u001b[0;34m(\u001b[0m\u001b[0mestimator\u001b[0m\u001b[0;34m,\u001b[0m \u001b[0mX\u001b[0m\u001b[0;34m,\u001b[0m \u001b[0mdummy_y\u001b[0m\u001b[0;34m,\u001b[0m \u001b[0mcv\u001b[0m\u001b[0;34m=\u001b[0m\u001b[0;36m10\u001b[0m\u001b[0;34m)\u001b[0m\u001b[0;34m\u001b[0m\u001b[0;34m\u001b[0m\u001b[0m\n\u001b[0m\u001b[1;32m      6\u001b[0m \u001b[0;34m\u001b[0m\u001b[0m\n\u001b[1;32m      7\u001b[0m \u001b[0mprint\u001b[0m\u001b[0;34m(\u001b[0m\u001b[0;34m\"Baseline: %.2f%% (%.2f%%)\"\u001b[0m \u001b[0;34m%\u001b[0m \u001b[0;34m(\u001b[0m\u001b[0mresults\u001b[0m\u001b[0;34m.\u001b[0m\u001b[0mmean\u001b[0m\u001b[0;34m(\u001b[0m\u001b[0;34m)\u001b[0m\u001b[0;34m*\u001b[0m\u001b[0;36m100\u001b[0m\u001b[0;34m,\u001b[0m \u001b[0mresults\u001b[0m\u001b[0;34m.\u001b[0m\u001b[0mstd\u001b[0m\u001b[0;34m(\u001b[0m\u001b[0;34m)\u001b[0m\u001b[0;34m*\u001b[0m\u001b[0;36m100\u001b[0m\u001b[0;34m)\u001b[0m\u001b[0;34m)\u001b[0m\u001b[0;34m\u001b[0m\u001b[0;34m\u001b[0m\u001b[0m\n",
            "\u001b[0;32m/usr/local/lib/python3.6/dist-packages/sklearn/model_selection/_validation.py\u001b[0m in \u001b[0;36mcross_val_score\u001b[0;34m(estimator, X, y, groups, scoring, cv, n_jobs, verbose, fit_params, pre_dispatch, error_score)\u001b[0m\n\u001b[1;32m    387\u001b[0m                                 \u001b[0mfit_params\u001b[0m\u001b[0;34m=\u001b[0m\u001b[0mfit_params\u001b[0m\u001b[0;34m,\u001b[0m\u001b[0;34m\u001b[0m\u001b[0;34m\u001b[0m\u001b[0m\n\u001b[1;32m    388\u001b[0m                                 \u001b[0mpre_dispatch\u001b[0m\u001b[0;34m=\u001b[0m\u001b[0mpre_dispatch\u001b[0m\u001b[0;34m,\u001b[0m\u001b[0;34m\u001b[0m\u001b[0;34m\u001b[0m\u001b[0m\n\u001b[0;32m--> 389\u001b[0;31m                                 error_score=error_score)\n\u001b[0m\u001b[1;32m    390\u001b[0m     \u001b[0;32mreturn\u001b[0m \u001b[0mcv_results\u001b[0m\u001b[0;34m[\u001b[0m\u001b[0;34m'test_score'\u001b[0m\u001b[0;34m]\u001b[0m\u001b[0;34m\u001b[0m\u001b[0;34m\u001b[0m\u001b[0m\n\u001b[1;32m    391\u001b[0m \u001b[0;34m\u001b[0m\u001b[0m\n",
            "\u001b[0;32m/usr/local/lib/python3.6/dist-packages/sklearn/model_selection/_validation.py\u001b[0m in \u001b[0;36mcross_validate\u001b[0;34m(estimator, X, y, groups, scoring, cv, n_jobs, verbose, fit_params, pre_dispatch, return_train_score, return_estimator, error_score)\u001b[0m\n\u001b[1;32m    229\u001b[0m             \u001b[0mreturn_times\u001b[0m\u001b[0;34m=\u001b[0m\u001b[0;32mTrue\u001b[0m\u001b[0;34m,\u001b[0m \u001b[0mreturn_estimator\u001b[0m\u001b[0;34m=\u001b[0m\u001b[0mreturn_estimator\u001b[0m\u001b[0;34m,\u001b[0m\u001b[0;34m\u001b[0m\u001b[0;34m\u001b[0m\u001b[0m\n\u001b[1;32m    230\u001b[0m             error_score=error_score)\n\u001b[0;32m--> 231\u001b[0;31m         for train, test in cv.split(X, y, groups))\n\u001b[0m\u001b[1;32m    232\u001b[0m \u001b[0;34m\u001b[0m\u001b[0m\n\u001b[1;32m    233\u001b[0m     \u001b[0mzipped_scores\u001b[0m \u001b[0;34m=\u001b[0m \u001b[0mlist\u001b[0m\u001b[0;34m(\u001b[0m\u001b[0mzip\u001b[0m\u001b[0;34m(\u001b[0m\u001b[0;34m*\u001b[0m\u001b[0mscores\u001b[0m\u001b[0;34m)\u001b[0m\u001b[0;34m)\u001b[0m\u001b[0;34m\u001b[0m\u001b[0;34m\u001b[0m\u001b[0m\n",
            "\u001b[0;32m/usr/local/lib/python3.6/dist-packages/joblib/parallel.py\u001b[0m in \u001b[0;36m__call__\u001b[0;34m(self, iterable)\u001b[0m\n\u001b[1;32m    984\u001b[0m                 \u001b[0mself\u001b[0m\u001b[0;34m.\u001b[0m\u001b[0m_iterating\u001b[0m \u001b[0;34m=\u001b[0m \u001b[0mself\u001b[0m\u001b[0;34m.\u001b[0m\u001b[0m_original_iterator\u001b[0m \u001b[0;32mis\u001b[0m \u001b[0;32mnot\u001b[0m \u001b[0;32mNone\u001b[0m\u001b[0;34m\u001b[0m\u001b[0;34m\u001b[0m\u001b[0m\n\u001b[1;32m    985\u001b[0m \u001b[0;34m\u001b[0m\u001b[0m\n\u001b[0;32m--> 986\u001b[0;31m             \u001b[0;32mwhile\u001b[0m \u001b[0mself\u001b[0m\u001b[0;34m.\u001b[0m\u001b[0mdispatch_one_batch\u001b[0m\u001b[0;34m(\u001b[0m\u001b[0miterator\u001b[0m\u001b[0;34m)\u001b[0m\u001b[0;34m:\u001b[0m\u001b[0;34m\u001b[0m\u001b[0;34m\u001b[0m\u001b[0m\n\u001b[0m\u001b[1;32m    987\u001b[0m                 \u001b[0;32mpass\u001b[0m\u001b[0;34m\u001b[0m\u001b[0;34m\u001b[0m\u001b[0m\n\u001b[1;32m    988\u001b[0m \u001b[0;34m\u001b[0m\u001b[0m\n",
            "\u001b[0;32m/usr/local/lib/python3.6/dist-packages/joblib/parallel.py\u001b[0m in \u001b[0;36mdispatch_one_batch\u001b[0;34m(self, iterator)\u001b[0m\n\u001b[1;32m    823\u001b[0m                 \u001b[0;32mreturn\u001b[0m \u001b[0;32mFalse\u001b[0m\u001b[0;34m\u001b[0m\u001b[0;34m\u001b[0m\u001b[0m\n\u001b[1;32m    824\u001b[0m             \u001b[0;32melse\u001b[0m\u001b[0;34m:\u001b[0m\u001b[0;34m\u001b[0m\u001b[0;34m\u001b[0m\u001b[0m\n\u001b[0;32m--> 825\u001b[0;31m                 \u001b[0mself\u001b[0m\u001b[0;34m.\u001b[0m\u001b[0m_dispatch\u001b[0m\u001b[0;34m(\u001b[0m\u001b[0mtasks\u001b[0m\u001b[0;34m)\u001b[0m\u001b[0;34m\u001b[0m\u001b[0;34m\u001b[0m\u001b[0m\n\u001b[0m\u001b[1;32m    826\u001b[0m                 \u001b[0;32mreturn\u001b[0m \u001b[0;32mTrue\u001b[0m\u001b[0;34m\u001b[0m\u001b[0;34m\u001b[0m\u001b[0m\n\u001b[1;32m    827\u001b[0m \u001b[0;34m\u001b[0m\u001b[0m\n",
            "\u001b[0;32m/usr/local/lib/python3.6/dist-packages/joblib/parallel.py\u001b[0m in \u001b[0;36m_dispatch\u001b[0;34m(self, batch)\u001b[0m\n\u001b[1;32m    780\u001b[0m         \u001b[0;32mwith\u001b[0m \u001b[0mself\u001b[0m\u001b[0;34m.\u001b[0m\u001b[0m_lock\u001b[0m\u001b[0;34m:\u001b[0m\u001b[0;34m\u001b[0m\u001b[0;34m\u001b[0m\u001b[0m\n\u001b[1;32m    781\u001b[0m             \u001b[0mjob_idx\u001b[0m \u001b[0;34m=\u001b[0m \u001b[0mlen\u001b[0m\u001b[0;34m(\u001b[0m\u001b[0mself\u001b[0m\u001b[0;34m.\u001b[0m\u001b[0m_jobs\u001b[0m\u001b[0;34m)\u001b[0m\u001b[0;34m\u001b[0m\u001b[0;34m\u001b[0m\u001b[0m\n\u001b[0;32m--> 782\u001b[0;31m             \u001b[0mjob\u001b[0m \u001b[0;34m=\u001b[0m \u001b[0mself\u001b[0m\u001b[0;34m.\u001b[0m\u001b[0m_backend\u001b[0m\u001b[0;34m.\u001b[0m\u001b[0mapply_async\u001b[0m\u001b[0;34m(\u001b[0m\u001b[0mbatch\u001b[0m\u001b[0;34m,\u001b[0m \u001b[0mcallback\u001b[0m\u001b[0;34m=\u001b[0m\u001b[0mcb\u001b[0m\u001b[0;34m)\u001b[0m\u001b[0;34m\u001b[0m\u001b[0;34m\u001b[0m\u001b[0m\n\u001b[0m\u001b[1;32m    783\u001b[0m             \u001b[0;31m# A job can complete so quickly than its callback is\u001b[0m\u001b[0;34m\u001b[0m\u001b[0;34m\u001b[0m\u001b[0;34m\u001b[0m\u001b[0m\n\u001b[1;32m    784\u001b[0m             \u001b[0;31m# called before we get here, causing self._jobs to\u001b[0m\u001b[0;34m\u001b[0m\u001b[0;34m\u001b[0m\u001b[0;34m\u001b[0m\u001b[0m\n",
            "\u001b[0;32m/usr/local/lib/python3.6/dist-packages/joblib/_parallel_backends.py\u001b[0m in \u001b[0;36mapply_async\u001b[0;34m(self, func, callback)\u001b[0m\n\u001b[1;32m    180\u001b[0m     \u001b[0;32mdef\u001b[0m \u001b[0mapply_async\u001b[0m\u001b[0;34m(\u001b[0m\u001b[0mself\u001b[0m\u001b[0;34m,\u001b[0m \u001b[0mfunc\u001b[0m\u001b[0;34m,\u001b[0m \u001b[0mcallback\u001b[0m\u001b[0;34m=\u001b[0m\u001b[0;32mNone\u001b[0m\u001b[0;34m)\u001b[0m\u001b[0;34m:\u001b[0m\u001b[0;34m\u001b[0m\u001b[0;34m\u001b[0m\u001b[0m\n\u001b[1;32m    181\u001b[0m         \u001b[0;34m\"\"\"Schedule a func to be run\"\"\"\u001b[0m\u001b[0;34m\u001b[0m\u001b[0;34m\u001b[0m\u001b[0m\n\u001b[0;32m--> 182\u001b[0;31m         \u001b[0mresult\u001b[0m \u001b[0;34m=\u001b[0m \u001b[0mImmediateResult\u001b[0m\u001b[0;34m(\u001b[0m\u001b[0mfunc\u001b[0m\u001b[0;34m)\u001b[0m\u001b[0;34m\u001b[0m\u001b[0;34m\u001b[0m\u001b[0m\n\u001b[0m\u001b[1;32m    183\u001b[0m         \u001b[0;32mif\u001b[0m \u001b[0mcallback\u001b[0m\u001b[0;34m:\u001b[0m\u001b[0;34m\u001b[0m\u001b[0;34m\u001b[0m\u001b[0m\n\u001b[1;32m    184\u001b[0m             \u001b[0mcallback\u001b[0m\u001b[0;34m(\u001b[0m\u001b[0mresult\u001b[0m\u001b[0;34m)\u001b[0m\u001b[0;34m\u001b[0m\u001b[0;34m\u001b[0m\u001b[0m\n",
            "\u001b[0;32m/usr/local/lib/python3.6/dist-packages/joblib/_parallel_backends.py\u001b[0m in \u001b[0;36m__init__\u001b[0;34m(self, batch)\u001b[0m\n\u001b[1;32m    543\u001b[0m         \u001b[0;31m# Don't delay the application, to avoid keeping the input\u001b[0m\u001b[0;34m\u001b[0m\u001b[0;34m\u001b[0m\u001b[0;34m\u001b[0m\u001b[0m\n\u001b[1;32m    544\u001b[0m         \u001b[0;31m# arguments in memory\u001b[0m\u001b[0;34m\u001b[0m\u001b[0;34m\u001b[0m\u001b[0;34m\u001b[0m\u001b[0m\n\u001b[0;32m--> 545\u001b[0;31m         \u001b[0mself\u001b[0m\u001b[0;34m.\u001b[0m\u001b[0mresults\u001b[0m \u001b[0;34m=\u001b[0m \u001b[0mbatch\u001b[0m\u001b[0;34m(\u001b[0m\u001b[0;34m)\u001b[0m\u001b[0;34m\u001b[0m\u001b[0;34m\u001b[0m\u001b[0m\n\u001b[0m\u001b[1;32m    546\u001b[0m \u001b[0;34m\u001b[0m\u001b[0m\n\u001b[1;32m    547\u001b[0m     \u001b[0;32mdef\u001b[0m \u001b[0mget\u001b[0m\u001b[0;34m(\u001b[0m\u001b[0mself\u001b[0m\u001b[0;34m)\u001b[0m\u001b[0;34m:\u001b[0m\u001b[0;34m\u001b[0m\u001b[0;34m\u001b[0m\u001b[0m\n",
            "\u001b[0;32m/usr/local/lib/python3.6/dist-packages/joblib/parallel.py\u001b[0m in \u001b[0;36m__call__\u001b[0;34m(self)\u001b[0m\n\u001b[1;32m    259\u001b[0m         \u001b[0;32mwith\u001b[0m \u001b[0mparallel_backend\u001b[0m\u001b[0;34m(\u001b[0m\u001b[0mself\u001b[0m\u001b[0;34m.\u001b[0m\u001b[0m_backend\u001b[0m\u001b[0;34m)\u001b[0m\u001b[0;34m:\u001b[0m\u001b[0;34m\u001b[0m\u001b[0;34m\u001b[0m\u001b[0m\n\u001b[1;32m    260\u001b[0m             return [func(*args, **kwargs)\n\u001b[0;32m--> 261\u001b[0;31m                     for func, args, kwargs in self.items]\n\u001b[0m\u001b[1;32m    262\u001b[0m \u001b[0;34m\u001b[0m\u001b[0m\n\u001b[1;32m    263\u001b[0m     \u001b[0;32mdef\u001b[0m \u001b[0m__len__\u001b[0m\u001b[0;34m(\u001b[0m\u001b[0mself\u001b[0m\u001b[0;34m)\u001b[0m\u001b[0;34m:\u001b[0m\u001b[0;34m\u001b[0m\u001b[0;34m\u001b[0m\u001b[0m\n",
            "\u001b[0;32m/usr/local/lib/python3.6/dist-packages/joblib/parallel.py\u001b[0m in \u001b[0;36m<listcomp>\u001b[0;34m(.0)\u001b[0m\n\u001b[1;32m    259\u001b[0m         \u001b[0;32mwith\u001b[0m \u001b[0mparallel_backend\u001b[0m\u001b[0;34m(\u001b[0m\u001b[0mself\u001b[0m\u001b[0;34m.\u001b[0m\u001b[0m_backend\u001b[0m\u001b[0;34m)\u001b[0m\u001b[0;34m:\u001b[0m\u001b[0;34m\u001b[0m\u001b[0;34m\u001b[0m\u001b[0m\n\u001b[1;32m    260\u001b[0m             return [func(*args, **kwargs)\n\u001b[0;32m--> 261\u001b[0;31m                     for func, args, kwargs in self.items]\n\u001b[0m\u001b[1;32m    262\u001b[0m \u001b[0;34m\u001b[0m\u001b[0m\n\u001b[1;32m    263\u001b[0m     \u001b[0;32mdef\u001b[0m \u001b[0m__len__\u001b[0m\u001b[0;34m(\u001b[0m\u001b[0mself\u001b[0m\u001b[0;34m)\u001b[0m\u001b[0;34m:\u001b[0m\u001b[0;34m\u001b[0m\u001b[0;34m\u001b[0m\u001b[0m\n",
            "\u001b[0;32m/usr/local/lib/python3.6/dist-packages/sklearn/model_selection/_validation.py\u001b[0m in \u001b[0;36m_fit_and_score\u001b[0;34m(estimator, X, y, scorer, train, test, verbose, parameters, fit_params, return_train_score, return_parameters, return_n_test_samples, return_times, return_estimator, error_score)\u001b[0m\n\u001b[1;32m    512\u001b[0m             \u001b[0mestimator\u001b[0m\u001b[0;34m.\u001b[0m\u001b[0mfit\u001b[0m\u001b[0;34m(\u001b[0m\u001b[0mX_train\u001b[0m\u001b[0;34m,\u001b[0m \u001b[0;34m**\u001b[0m\u001b[0mfit_params\u001b[0m\u001b[0;34m)\u001b[0m\u001b[0;34m\u001b[0m\u001b[0;34m\u001b[0m\u001b[0m\n\u001b[1;32m    513\u001b[0m         \u001b[0;32melse\u001b[0m\u001b[0;34m:\u001b[0m\u001b[0;34m\u001b[0m\u001b[0;34m\u001b[0m\u001b[0m\n\u001b[0;32m--> 514\u001b[0;31m             \u001b[0mestimator\u001b[0m\u001b[0;34m.\u001b[0m\u001b[0mfit\u001b[0m\u001b[0;34m(\u001b[0m\u001b[0mX_train\u001b[0m\u001b[0;34m,\u001b[0m \u001b[0my_train\u001b[0m\u001b[0;34m,\u001b[0m \u001b[0;34m**\u001b[0m\u001b[0mfit_params\u001b[0m\u001b[0;34m)\u001b[0m\u001b[0;34m\u001b[0m\u001b[0;34m\u001b[0m\u001b[0m\n\u001b[0m\u001b[1;32m    515\u001b[0m \u001b[0;34m\u001b[0m\u001b[0m\n\u001b[1;32m    516\u001b[0m     \u001b[0;32mexcept\u001b[0m \u001b[0mException\u001b[0m \u001b[0;32mas\u001b[0m \u001b[0me\u001b[0m\u001b[0;34m:\u001b[0m\u001b[0;34m\u001b[0m\u001b[0;34m\u001b[0m\u001b[0m\n",
            "\u001b[0;32m/usr/local/lib/python3.6/dist-packages/keras/wrappers/scikit_learn.py\u001b[0m in \u001b[0;36mfit\u001b[0;34m(self, x, y, sample_weight, **kwargs)\u001b[0m\n\u001b[1;32m    208\u001b[0m         \u001b[0;32mif\u001b[0m \u001b[0msample_weight\u001b[0m \u001b[0;32mis\u001b[0m \u001b[0;32mnot\u001b[0m \u001b[0;32mNone\u001b[0m\u001b[0;34m:\u001b[0m\u001b[0;34m\u001b[0m\u001b[0;34m\u001b[0m\u001b[0m\n\u001b[1;32m    209\u001b[0m             \u001b[0mkwargs\u001b[0m\u001b[0;34m[\u001b[0m\u001b[0;34m'sample_weight'\u001b[0m\u001b[0;34m]\u001b[0m \u001b[0;34m=\u001b[0m \u001b[0msample_weight\u001b[0m\u001b[0;34m\u001b[0m\u001b[0;34m\u001b[0m\u001b[0m\n\u001b[0;32m--> 210\u001b[0;31m         \u001b[0;32mreturn\u001b[0m \u001b[0msuper\u001b[0m\u001b[0;34m(\u001b[0m\u001b[0mKerasClassifier\u001b[0m\u001b[0;34m,\u001b[0m \u001b[0mself\u001b[0m\u001b[0;34m)\u001b[0m\u001b[0;34m.\u001b[0m\u001b[0mfit\u001b[0m\u001b[0;34m(\u001b[0m\u001b[0mx\u001b[0m\u001b[0;34m,\u001b[0m \u001b[0my\u001b[0m\u001b[0;34m,\u001b[0m \u001b[0;34m**\u001b[0m\u001b[0mkwargs\u001b[0m\u001b[0;34m)\u001b[0m\u001b[0;34m\u001b[0m\u001b[0;34m\u001b[0m\u001b[0m\n\u001b[0m\u001b[1;32m    211\u001b[0m \u001b[0;34m\u001b[0m\u001b[0m\n\u001b[1;32m    212\u001b[0m     \u001b[0;32mdef\u001b[0m \u001b[0mpredict\u001b[0m\u001b[0;34m(\u001b[0m\u001b[0mself\u001b[0m\u001b[0;34m,\u001b[0m \u001b[0mx\u001b[0m\u001b[0;34m,\u001b[0m \u001b[0;34m**\u001b[0m\u001b[0mkwargs\u001b[0m\u001b[0;34m)\u001b[0m\u001b[0;34m:\u001b[0m\u001b[0;34m\u001b[0m\u001b[0;34m\u001b[0m\u001b[0m\n",
            "\u001b[0;32m/usr/local/lib/python3.6/dist-packages/keras/wrappers/scikit_learn.py\u001b[0m in \u001b[0;36mfit\u001b[0;34m(self, x, y, **kwargs)\u001b[0m\n\u001b[1;32m    150\u001b[0m         \u001b[0mfit_args\u001b[0m\u001b[0;34m.\u001b[0m\u001b[0mupdate\u001b[0m\u001b[0;34m(\u001b[0m\u001b[0mkwargs\u001b[0m\u001b[0;34m)\u001b[0m\u001b[0;34m\u001b[0m\u001b[0;34m\u001b[0m\u001b[0m\n\u001b[1;32m    151\u001b[0m \u001b[0;34m\u001b[0m\u001b[0m\n\u001b[0;32m--> 152\u001b[0;31m         \u001b[0mhistory\u001b[0m \u001b[0;34m=\u001b[0m \u001b[0mself\u001b[0m\u001b[0;34m.\u001b[0m\u001b[0mmodel\u001b[0m\u001b[0;34m.\u001b[0m\u001b[0mfit\u001b[0m\u001b[0;34m(\u001b[0m\u001b[0mx\u001b[0m\u001b[0;34m,\u001b[0m \u001b[0my\u001b[0m\u001b[0;34m,\u001b[0m \u001b[0;34m**\u001b[0m\u001b[0mfit_args\u001b[0m\u001b[0;34m)\u001b[0m\u001b[0;34m\u001b[0m\u001b[0;34m\u001b[0m\u001b[0m\n\u001b[0m\u001b[1;32m    153\u001b[0m \u001b[0;34m\u001b[0m\u001b[0m\n\u001b[1;32m    154\u001b[0m         \u001b[0;32mreturn\u001b[0m \u001b[0mhistory\u001b[0m\u001b[0;34m\u001b[0m\u001b[0;34m\u001b[0m\u001b[0m\n",
            "\u001b[0;32m/usr/local/lib/python3.6/dist-packages/keras/engine/training.py\u001b[0m in \u001b[0;36mfit\u001b[0;34m(self, x, y, batch_size, epochs, verbose, callbacks, validation_split, validation_data, shuffle, class_weight, sample_weight, initial_epoch, steps_per_epoch, validation_steps, **kwargs)\u001b[0m\n\u001b[1;32m   1037\u001b[0m                                         \u001b[0minitial_epoch\u001b[0m\u001b[0;34m=\u001b[0m\u001b[0minitial_epoch\u001b[0m\u001b[0;34m,\u001b[0m\u001b[0;34m\u001b[0m\u001b[0;34m\u001b[0m\u001b[0m\n\u001b[1;32m   1038\u001b[0m                                         \u001b[0msteps_per_epoch\u001b[0m\u001b[0;34m=\u001b[0m\u001b[0msteps_per_epoch\u001b[0m\u001b[0;34m,\u001b[0m\u001b[0;34m\u001b[0m\u001b[0;34m\u001b[0m\u001b[0m\n\u001b[0;32m-> 1039\u001b[0;31m                                         validation_steps=validation_steps)\n\u001b[0m\u001b[1;32m   1040\u001b[0m \u001b[0;34m\u001b[0m\u001b[0m\n\u001b[1;32m   1041\u001b[0m     def evaluate(self, x=None, y=None,\n",
            "\u001b[0;32m/usr/local/lib/python3.6/dist-packages/keras/engine/training_arrays.py\u001b[0m in \u001b[0;36mfit_loop\u001b[0;34m(model, f, ins, out_labels, batch_size, epochs, verbose, callbacks, val_f, val_ins, shuffle, callback_metrics, initial_epoch, steps_per_epoch, validation_steps)\u001b[0m\n\u001b[1;32m    197\u001b[0m                     \u001b[0mins_batch\u001b[0m\u001b[0;34m[\u001b[0m\u001b[0mi\u001b[0m\u001b[0;34m]\u001b[0m \u001b[0;34m=\u001b[0m \u001b[0mins_batch\u001b[0m\u001b[0;34m[\u001b[0m\u001b[0mi\u001b[0m\u001b[0;34m]\u001b[0m\u001b[0;34m.\u001b[0m\u001b[0mtoarray\u001b[0m\u001b[0;34m(\u001b[0m\u001b[0;34m)\u001b[0m\u001b[0;34m\u001b[0m\u001b[0;34m\u001b[0m\u001b[0m\n\u001b[1;32m    198\u001b[0m \u001b[0;34m\u001b[0m\u001b[0m\n\u001b[0;32m--> 199\u001b[0;31m                 \u001b[0mouts\u001b[0m \u001b[0;34m=\u001b[0m \u001b[0mf\u001b[0m\u001b[0;34m(\u001b[0m\u001b[0mins_batch\u001b[0m\u001b[0;34m)\u001b[0m\u001b[0;34m\u001b[0m\u001b[0;34m\u001b[0m\u001b[0m\n\u001b[0m\u001b[1;32m    200\u001b[0m                 \u001b[0mouts\u001b[0m \u001b[0;34m=\u001b[0m \u001b[0mto_list\u001b[0m\u001b[0;34m(\u001b[0m\u001b[0mouts\u001b[0m\u001b[0;34m)\u001b[0m\u001b[0;34m\u001b[0m\u001b[0;34m\u001b[0m\u001b[0m\n\u001b[1;32m    201\u001b[0m                 \u001b[0;32mfor\u001b[0m \u001b[0ml\u001b[0m\u001b[0;34m,\u001b[0m \u001b[0mo\u001b[0m \u001b[0;32min\u001b[0m \u001b[0mzip\u001b[0m\u001b[0;34m(\u001b[0m\u001b[0mout_labels\u001b[0m\u001b[0;34m,\u001b[0m \u001b[0mouts\u001b[0m\u001b[0;34m)\u001b[0m\u001b[0;34m:\u001b[0m\u001b[0;34m\u001b[0m\u001b[0;34m\u001b[0m\u001b[0m\n",
            "\u001b[0;32m/usr/local/lib/python3.6/dist-packages/keras/backend/tensorflow_backend.py\u001b[0m in \u001b[0;36m__call__\u001b[0;34m(self, inputs)\u001b[0m\n\u001b[1;32m   2713\u001b[0m                 \u001b[0;32mreturn\u001b[0m \u001b[0mself\u001b[0m\u001b[0;34m.\u001b[0m\u001b[0m_legacy_call\u001b[0m\u001b[0;34m(\u001b[0m\u001b[0minputs\u001b[0m\u001b[0;34m)\u001b[0m\u001b[0;34m\u001b[0m\u001b[0;34m\u001b[0m\u001b[0m\n\u001b[1;32m   2714\u001b[0m \u001b[0;34m\u001b[0m\u001b[0m\n\u001b[0;32m-> 2715\u001b[0;31m             \u001b[0;32mreturn\u001b[0m \u001b[0mself\u001b[0m\u001b[0;34m.\u001b[0m\u001b[0m_call\u001b[0m\u001b[0;34m(\u001b[0m\u001b[0minputs\u001b[0m\u001b[0;34m)\u001b[0m\u001b[0;34m\u001b[0m\u001b[0;34m\u001b[0m\u001b[0m\n\u001b[0m\u001b[1;32m   2716\u001b[0m         \u001b[0;32melse\u001b[0m\u001b[0;34m:\u001b[0m\u001b[0;34m\u001b[0m\u001b[0;34m\u001b[0m\u001b[0m\n\u001b[1;32m   2717\u001b[0m             \u001b[0;32mif\u001b[0m \u001b[0mpy_any\u001b[0m\u001b[0;34m(\u001b[0m\u001b[0mis_tensor\u001b[0m\u001b[0;34m(\u001b[0m\u001b[0mx\u001b[0m\u001b[0;34m)\u001b[0m \u001b[0;32mfor\u001b[0m \u001b[0mx\u001b[0m \u001b[0;32min\u001b[0m \u001b[0minputs\u001b[0m\u001b[0;34m)\u001b[0m\u001b[0;34m:\u001b[0m\u001b[0;34m\u001b[0m\u001b[0;34m\u001b[0m\u001b[0m\n",
            "\u001b[0;32m/usr/local/lib/python3.6/dist-packages/keras/backend/tensorflow_backend.py\u001b[0m in \u001b[0;36m_call\u001b[0;34m(self, inputs)\u001b[0m\n\u001b[1;32m   2673\u001b[0m             \u001b[0mfetched\u001b[0m \u001b[0;34m=\u001b[0m \u001b[0mself\u001b[0m\u001b[0;34m.\u001b[0m\u001b[0m_callable_fn\u001b[0m\u001b[0;34m(\u001b[0m\u001b[0;34m*\u001b[0m\u001b[0marray_vals\u001b[0m\u001b[0;34m,\u001b[0m \u001b[0mrun_metadata\u001b[0m\u001b[0;34m=\u001b[0m\u001b[0mself\u001b[0m\u001b[0;34m.\u001b[0m\u001b[0mrun_metadata\u001b[0m\u001b[0;34m)\u001b[0m\u001b[0;34m\u001b[0m\u001b[0;34m\u001b[0m\u001b[0m\n\u001b[1;32m   2674\u001b[0m         \u001b[0;32melse\u001b[0m\u001b[0;34m:\u001b[0m\u001b[0;34m\u001b[0m\u001b[0;34m\u001b[0m\u001b[0m\n\u001b[0;32m-> 2675\u001b[0;31m             \u001b[0mfetched\u001b[0m \u001b[0;34m=\u001b[0m \u001b[0mself\u001b[0m\u001b[0;34m.\u001b[0m\u001b[0m_callable_fn\u001b[0m\u001b[0;34m(\u001b[0m\u001b[0;34m*\u001b[0m\u001b[0marray_vals\u001b[0m\u001b[0;34m)\u001b[0m\u001b[0;34m\u001b[0m\u001b[0;34m\u001b[0m\u001b[0m\n\u001b[0m\u001b[1;32m   2676\u001b[0m         \u001b[0;32mreturn\u001b[0m \u001b[0mfetched\u001b[0m\u001b[0;34m[\u001b[0m\u001b[0;34m:\u001b[0m\u001b[0mlen\u001b[0m\u001b[0;34m(\u001b[0m\u001b[0mself\u001b[0m\u001b[0;34m.\u001b[0m\u001b[0moutputs\u001b[0m\u001b[0;34m)\u001b[0m\u001b[0;34m]\u001b[0m\u001b[0;34m\u001b[0m\u001b[0;34m\u001b[0m\u001b[0m\n\u001b[1;32m   2677\u001b[0m \u001b[0;34m\u001b[0m\u001b[0m\n",
            "\u001b[0;32m/usr/local/lib/python3.6/dist-packages/tensorflow/python/client/session.py\u001b[0m in \u001b[0;36m__call__\u001b[0;34m(self, *args, **kwargs)\u001b[0m\n\u001b[1;32m   1437\u001b[0m           ret = tf_session.TF_SessionRunCallable(\n\u001b[1;32m   1438\u001b[0m               \u001b[0mself\u001b[0m\u001b[0;34m.\u001b[0m\u001b[0m_session\u001b[0m\u001b[0;34m.\u001b[0m\u001b[0m_session\u001b[0m\u001b[0;34m,\u001b[0m \u001b[0mself\u001b[0m\u001b[0;34m.\u001b[0m\u001b[0m_handle\u001b[0m\u001b[0;34m,\u001b[0m \u001b[0margs\u001b[0m\u001b[0;34m,\u001b[0m \u001b[0mstatus\u001b[0m\u001b[0;34m,\u001b[0m\u001b[0;34m\u001b[0m\u001b[0;34m\u001b[0m\u001b[0m\n\u001b[0;32m-> 1439\u001b[0;31m               run_metadata_ptr)\n\u001b[0m\u001b[1;32m   1440\u001b[0m         \u001b[0;32mif\u001b[0m \u001b[0mrun_metadata\u001b[0m\u001b[0;34m:\u001b[0m\u001b[0;34m\u001b[0m\u001b[0;34m\u001b[0m\u001b[0m\n\u001b[1;32m   1441\u001b[0m           \u001b[0mproto_data\u001b[0m \u001b[0;34m=\u001b[0m \u001b[0mtf_session\u001b[0m\u001b[0;34m.\u001b[0m\u001b[0mTF_GetBuffer\u001b[0m\u001b[0;34m(\u001b[0m\u001b[0mrun_metadata_ptr\u001b[0m\u001b[0;34m)\u001b[0m\u001b[0;34m\u001b[0m\u001b[0;34m\u001b[0m\u001b[0m\n",
            "\u001b[0;31mKeyboardInterrupt\u001b[0m: "
          ]
        }
      ]
    },
    {
      "cell_type": "code",
      "metadata": {
        "id": "JE6b_GydDtL6",
        "colab_type": "code",
        "colab": {}
      },
      "source": [
        "X_train, X_test, y_train, y_test = train_test_split(X,Y,test_size=0.20)"
      ],
      "execution_count": 0,
      "outputs": []
    },
    {
      "cell_type": "markdown",
      "metadata": {
        "id": "v_Wfh5cwQFdF",
        "colab_type": "text"
      },
      "source": [
        "## Other Models"
      ]
    },
    {
      "cell_type": "code",
      "metadata": {
        "id": "0x6z_uvsAdzR",
        "colab_type": "code",
        "outputId": "54eeb431-981f-40d7-9526-a1e1c9237eec",
        "colab": {
          "base_uri": "https://localhost:8080/",
          "height": 34
        }
      },
      "source": [
        "#Support Vector Machines\n",
        "from sklearn.svm import SVC\n",
        "from sklearn.metrics import accuracy_score,confusion_matrix\n",
        "\n",
        "classifierSVM = SVC(kernel=\"rbf\", gamma=\"auto\")\n",
        "classifierSVM.fit(X_train,y_train)\n",
        "y_predictSVM = classifierSVM.predict(X_test)\n",
        "\n",
        "cmSVM =confusion_matrix(y_test,y_predictSVM)\n",
        "accuracy_score(y_test,y_predictSVM)"
      ],
      "execution_count": 26,
      "outputs": [
        {
          "output_type": "execute_result",
          "data": {
            "text/plain": [
              "0.7899159663865546"
            ]
          },
          "metadata": {
            "tags": []
          },
          "execution_count": 26
        }
      ]
    },
    {
      "cell_type": "code",
      "metadata": {
        "id": "N_xvOveCAgDx",
        "colab_type": "code",
        "colab": {}
      },
      "source": [
        "#K-Nearest Neighbors\n",
        "from sklearn.neighbors import KNeighborsClassifier \n",
        "\n",
        "classifierKNN = KNeighborsClassifier(n_neighbors=17, metric=\"minkowski\", p=2)\n",
        "classifierKNN.fit(X_train,y_train)\n",
        "y_predictKNN = classifierKNN.predict(X_test)\n",
        "\n",
        "cmKNN =confusion_matrix(y_test,y_predictKNN)\n",
        "accuracy_score(y_test,y_predictKNN)"
      ],
      "execution_count": 0,
      "outputs": []
    },
    {
      "cell_type": "code",
      "metadata": {
        "id": "B3ZT0gyBAiVa",
        "colab_type": "code",
        "colab": {}
      },
      "source": [
        "#MLPClassifier\n",
        "from sklearn.neural_network import MLPClassifier\n",
        "\n",
        "classifier = MLPClassifier(solver= 'lbfgs', hidden_layer_sizes= (30, 10), alpha= 1e-5)\n",
        "classifier.fit(X_train,y_train)\n",
        "y_pred= classifier.predict(X_test)\n",
        "\n",
        "\n",
        "cmSVM =confusion_matrix(y_test,y_pred)\n",
        "accuracy_score(y_test,y_pred)"
      ],
      "execution_count": 0,
      "outputs": []
    },
    {
      "cell_type": "code",
      "metadata": {
        "id": "vDGKTTfXAkDQ",
        "colab_type": "code",
        "colab": {}
      },
      "source": [
        "#Random Forest Regressor\n",
        "from sklearn.ensemble import RandomForestRegressor\n",
        "\n",
        "regressorRFR = RandomForestRegressor(n_estimators=100,max_depth=2)\n",
        "regressorRFR.fit(X_train,y_train)\n",
        "\n",
        "Y_predRFR = regressorRFR.predict(X_test)"
      ],
      "execution_count": 0,
      "outputs": []
    },
    {
      "cell_type": "code",
      "metadata": {
        "id": "_fIHuOYlA9AB",
        "colab_type": "code",
        "colab": {}
      },
      "source": [
        "#XGBoost\n",
        "from xgboost import XGBClassifier\n",
        "\n",
        "classifierXGB = XGBClassifier(max_depth=3, n_estimators=1000,learning_rate=0.01,subsample=0.8,colsample_bytree=1, gamma=1)\n",
        "classifierXGB.fit(X_train,y_train)\n",
        "\n",
        "y_predict = classifierXGB.predict(X_test)\n",
        "cmXGB =confusion_matrix(y_test,y_predict)\n",
        "accuracy_score(y_test,y_predict)"
      ],
      "execution_count": 0,
      "outputs": []
    },
    {
      "cell_type": "code",
      "metadata": {
        "id": "RsLpu6dpbVM8",
        "colab_type": "code",
        "colab": {}
      },
      "source": [
        ""
      ],
      "execution_count": 0,
      "outputs": []
    }
  ]
}